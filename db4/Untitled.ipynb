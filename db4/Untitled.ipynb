{
 "cells": [
  {
   "cell_type": "code",
   "execution_count": 1,
   "id": "e607bf87",
   "metadata": {},
   "outputs": [],
   "source": [
    "from tensorflow.keras.preprocessing.image import ImageDataGenerator\n",
    "from tensorflow.keras.models import Sequential\n",
    "from tensorflow.keras.layers import Conv2D, MaxPooling2D, Flatten, Dense, Dropout\n",
    "from tensorflow.keras.optimizers import Adam"
   ]
  },
  {
   "cell_type": "code",
   "execution_count": null,
   "id": "488511fb",
   "metadata": {},
   "outputs": [],
   "source": [
    "# Definir la ruta de la base de datos\n",
    "database_path = '../../database/105_classes_pins_dataset/'"
   ]
  },
  {
   "cell_type": "code",
   "execution_count": null,
   "id": "b20d3b55",
   "metadata": {},
   "outputs": [],
   "source": [
    "# Preprocesamiento de datos con ImageDataGenerator\n",
    "train_datagen = ImageDataGenerator(rescale=1./255,\n",
    "                                   shear_range=0.2,\n",
    "                                   zoom_range=0.2,\n",
    "                                   horizontal_flip=True,\n",
    "                                   validation_split=0.2)"
   ]
  },
  {
   "cell_type": "code",
   "execution_count": null,
   "id": "2b8dd134",
   "metadata": {},
   "outputs": [],
   "source": [
    "# Generadores de datos para entrenamiento y validación\n",
    "train_generator = train_datagen.flow_from_directory(\n",
    "    database_path,\n",
    "    target_size=(224, 224),\n",
    "    batch_size=32,\n",
    "    class_mode='categorical',\n",
    "    subset='training')\n",
    "validation_generator = train_datagen.flow_from_directory(\n",
    "    database_path,\n",
    "    target_size=(224, 224),\n",
    "    batch_size=32,\n",
    "    class_mode='categorical',\n",
    "    subset='validation')"
   ]
  },
  {
   "cell_type": "code",
   "execution_count": null,
   "id": "62a149a2",
   "metadata": {},
   "outputs": [],
   "source": [
    "# Inicializar el modelo\n",
    "model = Sequential()"
   ]
  },
  {
   "cell_type": "code",
   "execution_count": null,
   "id": "571dcebf",
   "metadata": {},
   "outputs": [],
   "source": [
    "# Agregar capas convolucionales y de pooling\n",
    "model.add(Conv2D(32, (3, 3), activation='relu', input_shape=(224, 224, 3)))\n",
    "model.add(MaxPooling2D((2, 2)))"
   ]
  },
  {
   "cell_type": "code",
   "execution_count": null,
   "id": "29f0eb56",
   "metadata": {},
   "outputs": [],
   "source": [
    "# Agregar capas fully connected\n",
    "model.add(Flatten())\n",
    "model.add(Dense(128, activation='relu'))\n",
    "model.add(Dropout(0.5))\n",
    "model.add(Dense(len(train_generator.class_indices), activation='softmax'))  # Número de clases\n"
   ]
  },
  {
   "cell_type": "code",
   "execution_count": null,
   "id": "592f4aa6",
   "metadata": {},
   "outputs": [],
   "source": [
    "# Compilar el modelo\n",
    "model.compile(optimizer=Adam(learning_rate=0.1),\n",
    "              loss='categorical_crossentropy',\n",
    "              metrics=['accuracy'])\n"
   ]
  },
  {
   "cell_type": "code",
   "execution_count": null,
   "id": "576db93c",
   "metadata": {},
   "outputs": [],
   "source": [
    "# Entrenar el modelo\n",
    "model.fit(train_generator,\n",
    "          steps_per_epoch=len(train_generator),\n",
    "          epochs=10,\n",
    "          validation_data=validation_generator,\n",
    "          validation_steps=len(validation_generator))"
   ]
  },
  {
   "cell_type": "code",
   "execution_count": null,
   "id": "d0f38b25",
   "metadata": {},
   "outputs": [],
   "source": []
  },
  {
   "cell_type": "code",
   "execution_count": null,
   "id": "b1c76fdf",
   "metadata": {},
   "outputs": [],
   "source": []
  },
  {
   "cell_type": "code",
   "execution_count": null,
   "id": "70cacac9",
   "metadata": {},
   "outputs": [],
   "source": []
  },
  {
   "cell_type": "code",
   "execution_count": null,
   "id": "2ca0d389",
   "metadata": {},
   "outputs": [],
   "source": []
  },
  {
   "cell_type": "code",
   "execution_count": null,
   "id": "c4968fce",
   "metadata": {},
   "outputs": [],
   "source": []
  },
  {
   "cell_type": "code",
   "execution_count": null,
   "id": "fcd9485b",
   "metadata": {},
   "outputs": [],
   "source": []
  },
  {
   "cell_type": "code",
   "execution_count": null,
   "id": "b21b54fa",
   "metadata": {},
   "outputs": [],
   "source": []
  },
  {
   "cell_type": "code",
   "execution_count": null,
   "id": "e4eeae94",
   "metadata": {},
   "outputs": [],
   "source": []
  },
  {
   "cell_type": "code",
   "execution_count": 2,
   "id": "b6d9078f",
   "metadata": {},
   "outputs": [
    {
     "name": "stdout",
     "output_type": "stream",
     "text": [
      "Solo se ha detectado una GPU.\n"
     ]
    }
   ],
   "source": [
    "import tensorflow as tf\n",
    "\n",
    "# Obtener la lista de GPUs disponibles\n",
    "gpus = tf.config.list_physical_devices('GPU')\n",
    "if gpus:\n",
    "    # Limitar TensorFlow a usar la GPU 1 si hay más de una GPU\n",
    "    if len(gpus) > 1:\n",
    "        tf.config.set_visible_devices(gpus[1], 'GPU')\n",
    "        # Habilitar el crecimiento dinámico de la memoria de la GPU\n",
    "        tf.config.experimental.set_memory_growth(gpus[1], True)\n",
    "    else:\n",
    "        print(\"Solo se ha detectado una GPU.\")\n",
    "else:\n",
    "    print(\"No se ha detectado ninguna GPU.\")\n"
   ]
  },
  {
   "cell_type": "code",
   "execution_count": 3,
   "id": "c353047c",
   "metadata": {},
   "outputs": [
    {
     "name": "stdout",
     "output_type": "stream",
     "text": [
      "ERROR! Session/line number was not unique in database. History logging moved to new session 217\n",
      "Found 14071 images belonging to 105 classes.\n",
      "Found 3463 images belonging to 105 classes.\n",
      "WARNING:tensorflow:sample_weight modes were coerced from\n",
      "  ...\n",
      "    to  \n",
      "  ['...']\n"
     ]
    },
    {
     "name": "stderr",
     "output_type": "stream",
     "text": [
      "WARNING:tensorflow:sample_weight modes were coerced from\n",
      "  ...\n",
      "    to  \n",
      "  ['...']\n"
     ]
    },
    {
     "name": "stdout",
     "output_type": "stream",
     "text": [
      "WARNING:tensorflow:sample_weight modes were coerced from\n",
      "  ...\n",
      "    to  \n",
      "  ['...']\n"
     ]
    },
    {
     "name": "stderr",
     "output_type": "stream",
     "text": [
      "WARNING:tensorflow:sample_weight modes were coerced from\n",
      "  ...\n",
      "    to  \n",
      "  ['...']\n"
     ]
    },
    {
     "name": "stdout",
     "output_type": "stream",
     "text": [
      "Train for 440 steps, validate for 109 steps\n",
      "Epoch 1/20\n",
      "440/440 [==============================] - 125s 285ms/step - loss: 4.6575 - accuracy: 0.0131 - val_loss: 4.6431 - val_accuracy: 0.0136\n",
      "Epoch 2/20\n",
      "440/440 [==============================] - 135s 306ms/step - loss: 4.6093 - accuracy: 0.0198 - val_loss: 4.5251 - val_accuracy: 0.0289\n",
      "Epoch 3/20\n",
      "440/440 [==============================] - 155s 351ms/step - loss: 4.4041 - accuracy: 0.0353 - val_loss: 4.2074 - val_accuracy: 0.0606\n",
      "Epoch 4/20\n",
      "440/440 [==============================] - 146s 332ms/step - loss: 4.1333 - accuracy: 0.0532 - val_loss: 3.9230 - val_accuracy: 0.0820\n",
      "Epoch 5/20\n",
      "440/440 [==============================] - 120s 273ms/step - loss: 3.9397 - accuracy: 0.0728 - val_loss: 3.8234 - val_accuracy: 0.0814\n",
      "Epoch 6/20\n",
      "440/440 [==============================] - 119s 271ms/step - loss: 3.8256 - accuracy: 0.0882 - val_loss: 3.6727 - val_accuracy: 0.1175\n",
      "Epoch 7/20\n",
      "440/440 [==============================] - 136s 308ms/step - loss: 3.7137 - accuracy: 0.1051 - val_loss: 3.5911 - val_accuracy: 0.1429\n",
      "Epoch 8/20\n",
      "440/440 [==============================] - 143s 324ms/step - loss: 3.6265 - accuracy: 0.1161 - val_loss: 3.4887 - val_accuracy: 0.1632\n",
      "Epoch 9/20\n",
      "440/440 [==============================] - 147s 333ms/step - loss: 3.5307 - accuracy: 0.1340 - val_loss: 3.3984 - val_accuracy: 0.1718\n",
      "Epoch 10/20\n",
      "440/440 [==============================] - 176s 399ms/step - loss: 3.4628 - accuracy: 0.1405 - val_loss: 3.3520 - val_accuracy: 0.1738\n",
      "Epoch 11/20\n",
      "440/440 [==============================] - 146s 331ms/step - loss: 3.3798 - accuracy: 0.1614 - val_loss: 3.3079 - val_accuracy: 0.1906\n",
      "Epoch 12/20\n",
      "440/440 [==============================] - 140s 317ms/step - loss: 3.3165 - accuracy: 0.1696 - val_loss: 3.2050 - val_accuracy: 0.2073\n",
      "Epoch 13/20\n",
      "440/440 [==============================] - 133s 303ms/step - loss: 3.2429 - accuracy: 0.1787 - val_loss: 3.1508 - val_accuracy: 0.2258\n",
      "Epoch 14/20\n",
      "440/440 [==============================] - 131s 298ms/step - loss: 3.1837 - accuracy: 0.1919 - val_loss: 3.1102 - val_accuracy: 0.2264\n",
      "Epoch 15/20\n",
      "440/440 [==============================] - 131s 297ms/step - loss: 3.1275 - accuracy: 0.2006 - val_loss: 3.0728 - val_accuracy: 0.2530\n",
      "Epoch 16/20\n",
      "440/440 [==============================] - 132s 299ms/step - loss: 3.0615 - accuracy: 0.2148 - val_loss: 2.9841 - val_accuracy: 0.2645\n",
      "Epoch 17/20\n",
      "440/440 [==============================] - 127s 289ms/step - loss: 3.0247 - accuracy: 0.2276 - val_loss: 2.9443 - val_accuracy: 0.2686\n",
      "Epoch 18/20\n",
      "440/440 [==============================] - 132s 301ms/step - loss: 2.9816 - accuracy: 0.2311 - val_loss: 2.8742 - val_accuracy: 0.2769\n",
      "Epoch 19/20\n",
      "440/440 [==============================] - 122s 278ms/step - loss: 2.9343 - accuracy: 0.2403 - val_loss: 2.8733 - val_accuracy: 0.2879\n",
      "Epoch 20/20\n",
      "440/440 [==============================] - 120s 274ms/step - loss: 2.8923 - accuracy: 0.2476 - val_loss: 2.9203 - val_accuracy: 0.2720\n"
     ]
    },
    {
     "data": {
      "text/plain": [
       "<tensorflow.python.keras.callbacks.History at 0x1872e302d88>"
      ]
     },
     "execution_count": 3,
     "metadata": {},
     "output_type": "execute_result"
    }
   ],
   "source": [
    "from tensorflow.keras.preprocessing.image import ImageDataGenerator\n",
    "from tensorflow.keras.models import Sequential\n",
    "from tensorflow.keras.layers import Conv2D, MaxPooling2D, Flatten, Dense, Dropout\n",
    "from tensorflow.keras.optimizers import Adam\n",
    "\n",
    "# Definir la ruta de la base de datos\n",
    "database_path = '../../database/105_classes_pins_dataset/'\n",
    "# Preprocesamiento de datos con ImageDataGenerator\n",
    "train_datagen = ImageDataGenerator(rescale=1./255,\n",
    "                                   shear_range=0.2,\n",
    "                                   zoom_range=0.2,\n",
    "                                   horizontal_flip=True,\n",
    "                                   validation_split=0.2)\n",
    "# Generadores de datos para entrenamiento y validación\n",
    "train_generator = train_datagen.flow_from_directory(\n",
    "    database_path,\n",
    "    target_size=(200, 200),  # Cambio al tamaño 50x50\n",
    "    batch_size=32,\n",
    "    class_mode='categorical',\n",
    "    subset='training')\n",
    "validation_generator = train_datagen.flow_from_directory(\n",
    "    database_path,\n",
    "    target_size=(200, 200),  # Cambio al tamaño 50x50\n",
    "    batch_size=32,\n",
    "    class_mode='categorical',\n",
    "    subset='validation')\n",
    "\n",
    "# Inicializar el modelo\n",
    "model = Sequential()\n",
    "# Agregar capas convolucionales y de pooling\n",
    "model.add(Conv2D(32, (3, 3), activation='relu', input_shape=(200, 200, 3)))  # Cambio a 50x50\n",
    "model.add(MaxPooling2D((2, 2)))\n",
    "\n",
    "# Agregar dos capas convolucionales adicionales\n",
    "model.add(Conv2D(128, (3, 3), activation='relu'))\n",
    "model.add(MaxPooling2D((2, 2)))\n",
    "model.add(Conv2D(128, (3, 3), activation='relu'))\n",
    "model.add(MaxPooling2D((2, 2)))\n",
    "\n",
    "# Modificar el tamaño de las capas densas (totalmente conectadas)\n",
    "model.add(Flatten())\n",
    "model.add(Dense(128, activation='relu'))\n",
    "model.add(Dropout(0.5))\n",
    "\n",
    "# Cambiar el número de clases si es necesario\n",
    "model.add(Dense(len(train_generator.class_indices), activation='softmax'))\n",
    "\n",
    "# Compilar el modelo\n",
    "model.compile(optimizer=Adam(learning_rate=0.001),\n",
    "              loss='categorical_crossentropy',\n",
    "              metrics=['accuracy'])\n",
    "\n",
    "# Entrenar el modelo\n",
    "model.fit(train_generator,\n",
    "          steps_per_epoch=len(train_generator),\n",
    "          epochs=20,\n",
    "          validation_data=validation_generator,\n",
    "          validation_steps=len(validation_generator))\n"
   ]
  },
  {
   "cell_type": "code",
   "execution_count": null,
   "id": "a6bdf43b",
   "metadata": {},
   "outputs": [],
   "source": []
  },
  {
   "cell_type": "code",
   "execution_count": null,
   "id": "ce0fec9f",
   "metadata": {},
   "outputs": [],
   "source": []
  },
  {
   "cell_type": "code",
   "execution_count": null,
   "id": "734b84d9",
   "metadata": {},
   "outputs": [],
   "source": []
  },
  {
   "cell_type": "code",
   "execution_count": null,
   "id": "e5065adf",
   "metadata": {},
   "outputs": [
    {
     "name": "stdout",
     "output_type": "stream",
     "text": [
      "Found 14071 images belonging to 105 classes.\n",
      "Found 3463 images belonging to 105 classes.\n",
      "WARNING:tensorflow:sample_weight modes were coerced from\n",
      "  ...\n",
      "    to  \n",
      "  ['...']\n"
     ]
    },
    {
     "name": "stderr",
     "output_type": "stream",
     "text": [
      "WARNING:tensorflow:sample_weight modes were coerced from\n",
      "  ...\n",
      "    to  \n",
      "  ['...']\n"
     ]
    },
    {
     "name": "stdout",
     "output_type": "stream",
     "text": [
      "WARNING:tensorflow:sample_weight modes were coerced from\n",
      "  ...\n",
      "    to  \n",
      "  ['...']\n"
     ]
    },
    {
     "name": "stderr",
     "output_type": "stream",
     "text": [
      "WARNING:tensorflow:sample_weight modes were coerced from\n",
      "  ...\n",
      "    to  \n",
      "  ['...']\n"
     ]
    },
    {
     "name": "stdout",
     "output_type": "stream",
     "text": [
      "Train for 440 steps, validate for 109 steps\n",
      "440/440 [==============================] - 125s 285ms/step - loss: 4.6644 - accuracy: 0.0104 - val_loss: 4.6414 - val_accuracy: 0.0127\n",
      "WARNING:tensorflow:sample_weight modes were coerced from\n",
      "  ...\n",
      "    to  \n",
      "  ['...']\n"
     ]
    },
    {
     "name": "stderr",
     "output_type": "stream",
     "text": [
      "WARNING:tensorflow:sample_weight modes were coerced from\n",
      "  ...\n",
      "    to  \n",
      "  ['...']\n"
     ]
    },
    {
     "name": "stdout",
     "output_type": "stream",
     "text": [
      "WARNING:tensorflow:sample_weight modes were coerced from\n",
      "  ...\n",
      "    to  \n",
      "  ['...']\n"
     ]
    },
    {
     "name": "stderr",
     "output_type": "stream",
     "text": [
      "WARNING:tensorflow:sample_weight modes were coerced from\n",
      "  ...\n",
      "    to  \n",
      "  ['...']\n"
     ]
    },
    {
     "name": "stdout",
     "output_type": "stream",
     "text": [
      "Train for 440 steps, validate for 109 steps\n",
      "440/440 [==============================] - 133s 303ms/step - loss: 4.6396 - accuracy: 0.0134 - val_loss: 4.6343 - val_accuracy: 0.0136\n",
      "WARNING:tensorflow:sample_weight modes were coerced from\n",
      "  ...\n",
      "    to  \n",
      "  ['...']\n"
     ]
    },
    {
     "name": "stderr",
     "output_type": "stream",
     "text": [
      "WARNING:tensorflow:sample_weight modes were coerced from\n",
      "  ...\n",
      "    to  \n",
      "  ['...']\n"
     ]
    },
    {
     "name": "stdout",
     "output_type": "stream",
     "text": [
      "WARNING:tensorflow:sample_weight modes were coerced from\n",
      "  ...\n",
      "    to  \n",
      "  ['...']\n"
     ]
    },
    {
     "name": "stderr",
     "output_type": "stream",
     "text": [
      "WARNING:tensorflow:sample_weight modes were coerced from\n",
      "  ...\n",
      "    to  \n",
      "  ['...']\n"
     ]
    },
    {
     "name": "stdout",
     "output_type": "stream",
     "text": [
      "Train for 440 steps, validate for 109 steps\n",
      "440/440 [==============================] - 126s 287ms/step - loss: 4.6370 - accuracy: 0.0124 - val_loss: 4.6330 - val_accuracy: 0.0136\n",
      "WARNING:tensorflow:sample_weight modes were coerced from\n",
      "  ...\n",
      "    to  \n",
      "  ['...']\n"
     ]
    },
    {
     "name": "stderr",
     "output_type": "stream",
     "text": [
      "WARNING:tensorflow:sample_weight modes were coerced from\n",
      "  ...\n",
      "    to  \n",
      "  ['...']\n"
     ]
    },
    {
     "name": "stdout",
     "output_type": "stream",
     "text": [
      "WARNING:tensorflow:sample_weight modes were coerced from\n",
      "  ...\n",
      "    to  \n",
      "  ['...']\n"
     ]
    },
    {
     "name": "stderr",
     "output_type": "stream",
     "text": [
      "WARNING:tensorflow:sample_weight modes were coerced from\n",
      "  ...\n",
      "    to  \n",
      "  ['...']\n"
     ]
    },
    {
     "name": "stdout",
     "output_type": "stream",
     "text": [
      "Train for 440 steps, validate for 109 steps\n",
      " 52/440 [==>...........................] - ETA: 1:48 - loss: 4.6330 - accuracy: 0.0098"
     ]
    },
    {
     "name": "stderr",
     "output_type": "stream",
     "text": [
      "ERROR:root:Internal Python error in the inspect module.\n",
      "Below is the traceback from this internal error.\n",
      "\n",
      "ERROR:root:Internal Python error in the inspect module.\n",
      "Below is the traceback from this internal error.\n",
      "\n",
      "ERROR:root:Internal Python error in the inspect module.\n",
      "Below is the traceback from this internal error.\n",
      "\n"
     ]
    },
    {
     "name": "stdout",
     "output_type": "stream",
     "text": [
      "Traceback (most recent call last):\n",
      "  File \"C:\\Users\\Familia\\anaconda3\\envs\\entornoGPU\\lib\\site-packages\\IPython\\core\\interactiveshell.py\", line 3457, in run_code\n",
      "    exec(code_obj, self.user_global_ns, self.user_ns)\n",
      "  File \"C:\\Users\\Familia\\AppData\\Local\\Temp\\ipykernel_12756\\3649414629.py\", line 60, in <module>\n",
      "    validation_steps=len(validation_generator))\n",
      "  File \"C:\\Users\\Familia\\anaconda3\\envs\\entornoGPU\\lib\\site-packages\\tensorflow_core\\python\\keras\\engine\\training.py\", line 819, in fit\n",
      "    use_multiprocessing=use_multiprocessing)\n",
      "  File \"C:\\Users\\Familia\\anaconda3\\envs\\entornoGPU\\lib\\site-packages\\tensorflow_core\\python\\keras\\engine\\training_v2.py\", line 342, in fit\n",
      "    total_epochs=epochs)\n",
      "  File \"C:\\Users\\Familia\\anaconda3\\envs\\entornoGPU\\lib\\site-packages\\tensorflow_core\\python\\keras\\engine\\training_v2.py\", line 128, in run_one_epoch\n",
      "    batch_outs = execution_function(iterator)\n",
      "  File \"C:\\Users\\Familia\\anaconda3\\envs\\entornoGPU\\lib\\site-packages\\tensorflow_core\\python\\keras\\engine\\training_v2_utils.py\", line 98, in execution_function\n",
      "    distributed_function(input_fn))\n",
      "  File \"C:\\Users\\Familia\\anaconda3\\envs\\entornoGPU\\lib\\site-packages\\tensorflow_core\\python\\eager\\def_function.py\", line 568, in __call__\n",
      "    result = self._call(*args, **kwds)\n",
      "  File \"C:\\Users\\Familia\\anaconda3\\envs\\entornoGPU\\lib\\site-packages\\tensorflow_core\\python\\eager\\def_function.py\", line 599, in _call\n",
      "    return self._stateless_fn(*args, **kwds)  # pylint: disable=not-callable\n",
      "  File \"C:\\Users\\Familia\\anaconda3\\envs\\entornoGPU\\lib\\site-packages\\tensorflow_core\\python\\eager\\function.py\", line 2363, in __call__\n",
      "    return graph_function._filtered_call(args, kwargs)  # pylint: disable=protected-access\n",
      "  File \"C:\\Users\\Familia\\anaconda3\\envs\\entornoGPU\\lib\\site-packages\\tensorflow_core\\python\\eager\\function.py\", line 1611, in _filtered_call\n",
      "    self.captured_inputs)\n",
      "  File \"C:\\Users\\Familia\\anaconda3\\envs\\entornoGPU\\lib\\site-packages\\tensorflow_core\\python\\eager\\function.py\", line 1692, in _call_flat\n",
      "    ctx, args, cancellation_manager=cancellation_manager))\n",
      "  File \"C:\\Users\\Familia\\anaconda3\\envs\\entornoGPU\\lib\\site-packages\\tensorflow_core\\python\\eager\\function.py\", line 545, in call\n",
      "    ctx=ctx)\n",
      "  File \"C:\\Users\\Familia\\anaconda3\\envs\\entornoGPU\\lib\\site-packages\\tensorflow_core\\python\\eager\\execute.py\", line 61, in quick_execute\n",
      "    num_outputs)\n",
      "KeyboardInterrupt\n",
      "\n",
      "During handling of the above exception, another exception occurred:\n",
      "\n",
      "Traceback (most recent call last):\n",
      "  File \"C:\\Users\\Familia\\anaconda3\\envs\\entornoGPU\\lib\\site-packages\\IPython\\core\\interactiveshell.py\", line 2077, in showtraceback\n",
      "    stb = value._render_traceback_()\n",
      "AttributeError: 'KeyboardInterrupt' object has no attribute '_render_traceback_'\n",
      "\n",
      "During handling of the above exception, another exception occurred:\n",
      "\n",
      "Traceback (most recent call last):\n",
      "  File \"C:\\Users\\Familia\\anaconda3\\envs\\entornoGPU\\lib\\site-packages\\IPython\\core\\ultratb.py\", line 1101, in get_records\n",
      "    return _fixed_getinnerframes(etb, number_of_lines_of_context, tb_offset)\n",
      "  File \"C:\\Users\\Familia\\anaconda3\\envs\\entornoGPU\\lib\\site-packages\\IPython\\core\\ultratb.py\", line 248, in wrapped\n",
      "    return f(*args, **kwargs)\n",
      "  File \"C:\\Users\\Familia\\anaconda3\\envs\\entornoGPU\\lib\\site-packages\\IPython\\core\\ultratb.py\", line 281, in _fixed_getinnerframes\n",
      "    records = fix_frame_records_filenames(inspect.getinnerframes(etb, context))\n",
      "  File \"C:\\Users\\Familia\\anaconda3\\envs\\entornoGPU\\lib\\inspect.py\", line 1502, in getinnerframes\n",
      "    frameinfo = (tb.tb_frame,) + getframeinfo(tb, context)\n",
      "  File \"C:\\Users\\Familia\\anaconda3\\envs\\entornoGPU\\lib\\inspect.py\", line 1460, in getframeinfo\n",
      "    filename = getsourcefile(frame) or getfile(frame)\n",
      "  File \"C:\\Users\\Familia\\anaconda3\\envs\\entornoGPU\\lib\\inspect.py\", line 696, in getsourcefile\n",
      "    if getattr(getmodule(object, filename), '__loader__', None) is not None:\n",
      "  File \"C:\\Users\\Familia\\anaconda3\\envs\\entornoGPU\\lib\\inspect.py\", line 733, in getmodule\n",
      "    if ismodule(module) and hasattr(module, '__file__'):\n",
      "  File \"C:\\Users\\Familia\\anaconda3\\envs\\entornoGPU\\lib\\site-packages\\tensorflow\\__init__.py\", line 50, in __getattr__\n",
      "    module = self._load()\n",
      "  File \"C:\\Users\\Familia\\anaconda3\\envs\\entornoGPU\\lib\\site-packages\\tensorflow\\__init__.py\", line 44, in _load\n",
      "    module = _importlib.import_module(self.__name__)\n",
      "  File \"C:\\Users\\Familia\\anaconda3\\envs\\entornoGPU\\lib\\importlib\\__init__.py\", line 127, in import_module\n",
      "    return _bootstrap._gcd_import(name[level:], package, level)\n",
      "  File \"<frozen importlib._bootstrap>\", line 1006, in _gcd_import\n",
      "  File \"<frozen importlib._bootstrap>\", line 983, in _find_and_load\n",
      "  File \"<frozen importlib._bootstrap>\", line 965, in _find_and_load_unlocked\n",
      "ModuleNotFoundError: No module named 'tensorflow_core.estimator'\n",
      "Traceback (most recent call last):\n",
      "  File \"C:\\Users\\Familia\\anaconda3\\envs\\entornoGPU\\lib\\site-packages\\IPython\\core\\interactiveshell.py\", line 3457, in run_code\n",
      "    exec(code_obj, self.user_global_ns, self.user_ns)\n",
      "  File \"C:\\Users\\Familia\\AppData\\Local\\Temp\\ipykernel_12756\\3649414629.py\", line 60, in <module>\n",
      "    validation_steps=len(validation_generator))\n",
      "  File \"C:\\Users\\Familia\\anaconda3\\envs\\entornoGPU\\lib\\site-packages\\tensorflow_core\\python\\keras\\engine\\training.py\", line 819, in fit\n",
      "    use_multiprocessing=use_multiprocessing)\n",
      "  File \"C:\\Users\\Familia\\anaconda3\\envs\\entornoGPU\\lib\\site-packages\\tensorflow_core\\python\\keras\\engine\\training_v2.py\", line 342, in fit\n",
      "    total_epochs=epochs)\n",
      "  File \"C:\\Users\\Familia\\anaconda3\\envs\\entornoGPU\\lib\\site-packages\\tensorflow_core\\python\\keras\\engine\\training_v2.py\", line 128, in run_one_epoch\n",
      "    batch_outs = execution_function(iterator)\n",
      "  File \"C:\\Users\\Familia\\anaconda3\\envs\\entornoGPU\\lib\\site-packages\\tensorflow_core\\python\\keras\\engine\\training_v2_utils.py\", line 98, in execution_function\n",
      "    distributed_function(input_fn))\n",
      "  File \"C:\\Users\\Familia\\anaconda3\\envs\\entornoGPU\\lib\\site-packages\\tensorflow_core\\python\\eager\\def_function.py\", line 568, in __call__\n",
      "    result = self._call(*args, **kwds)\n",
      "  File \"C:\\Users\\Familia\\anaconda3\\envs\\entornoGPU\\lib\\site-packages\\tensorflow_core\\python\\eager\\def_function.py\", line 599, in _call\n",
      "    return self._stateless_fn(*args, **kwds)  # pylint: disable=not-callable\n",
      "  File \"C:\\Users\\Familia\\anaconda3\\envs\\entornoGPU\\lib\\site-packages\\tensorflow_core\\python\\eager\\function.py\", line 2363, in __call__\n",
      "    return graph_function._filtered_call(args, kwargs)  # pylint: disable=protected-access\n",
      "  File \"C:\\Users\\Familia\\anaconda3\\envs\\entornoGPU\\lib\\site-packages\\tensorflow_core\\python\\eager\\function.py\", line 1611, in _filtered_call\n",
      "    self.captured_inputs)\n",
      "  File \"C:\\Users\\Familia\\anaconda3\\envs\\entornoGPU\\lib\\site-packages\\tensorflow_core\\python\\eager\\function.py\", line 1692, in _call_flat\n",
      "    ctx, args, cancellation_manager=cancellation_manager))\n",
      "  File \"C:\\Users\\Familia\\anaconda3\\envs\\entornoGPU\\lib\\site-packages\\tensorflow_core\\python\\eager\\function.py\", line 545, in call\n",
      "    ctx=ctx)\n",
      "  File \"C:\\Users\\Familia\\anaconda3\\envs\\entornoGPU\\lib\\site-packages\\tensorflow_core\\python\\eager\\execute.py\", line 61, in quick_execute\n",
      "    num_outputs)\n",
      "KeyboardInterrupt\n",
      "\n",
      "During handling of the above exception, another exception occurred:\n",
      "\n",
      "Traceback (most recent call last):\n",
      "  File \"C:\\Users\\Familia\\anaconda3\\envs\\entornoGPU\\lib\\site-packages\\IPython\\core\\interactiveshell.py\", line 2077, in showtraceback\n",
      "    stb = value._render_traceback_()\n",
      "AttributeError: 'KeyboardInterrupt' object has no attribute '_render_traceback_'\n",
      "\n",
      "During handling of the above exception, another exception occurred:\n",
      "\n",
      "Traceback (most recent call last):\n",
      "  File \"C:\\Users\\Familia\\anaconda3\\envs\\entornoGPU\\lib\\site-packages\\IPython\\core\\interactiveshell.py\", line 3377, in run_ast_nodes\n",
      "    if (await self.run_code(code, result,  async_=asy)):\n",
      "  File \"C:\\Users\\Familia\\anaconda3\\envs\\entornoGPU\\lib\\site-packages\\IPython\\core\\interactiveshell.py\", line 3474, in run_code\n",
      "    self.showtraceback(running_compiled_code=True)\n",
      "  File \"C:\\Users\\Familia\\anaconda3\\envs\\entornoGPU\\lib\\site-packages\\IPython\\core\\interactiveshell.py\", line 2080, in showtraceback\n",
      "    value, tb, tb_offset=tb_offset)\n",
      "  File \"C:\\Users\\Familia\\anaconda3\\envs\\entornoGPU\\lib\\site-packages\\IPython\\core\\ultratb.py\", line 1368, in structured_traceback\n",
      "    self, etype, value, tb, tb_offset, number_of_lines_of_context)\n",
      "  File \"C:\\Users\\Familia\\anaconda3\\envs\\entornoGPU\\lib\\site-packages\\IPython\\core\\ultratb.py\", line 1268, in structured_traceback\n",
      "    self, etype, value, tb, tb_offset, number_of_lines_of_context\n",
      "  File \"C:\\Users\\Familia\\anaconda3\\envs\\entornoGPU\\lib\\site-packages\\IPython\\core\\ultratb.py\", line 1125, in structured_traceback\n",
      "    tb_offset)\n",
      "  File \"C:\\Users\\Familia\\anaconda3\\envs\\entornoGPU\\lib\\site-packages\\IPython\\core\\ultratb.py\", line 1082, in format_exception_as_a_whole\n",
      "    last_unique, recursion_repeat = find_recursion(orig_etype, evalue, records)\n",
      "  File \"C:\\Users\\Familia\\anaconda3\\envs\\entornoGPU\\lib\\site-packages\\IPython\\core\\ultratb.py\", line 382, in find_recursion\n",
      "    return len(records), 0\n",
      "TypeError: object of type 'NoneType' has no len()\n",
      "\n",
      "During handling of the above exception, another exception occurred:\n",
      "\n",
      "Traceback (most recent call last):\n",
      "  File \"C:\\Users\\Familia\\anaconda3\\envs\\entornoGPU\\lib\\site-packages\\IPython\\core\\interactiveshell.py\", line 2077, in showtraceback\n",
      "    stb = value._render_traceback_()\n",
      "AttributeError: 'TypeError' object has no attribute '_render_traceback_'\n",
      "\n",
      "During handling of the above exception, another exception occurred:\n",
      "\n",
      "Traceback (most recent call last):\n",
      "  File \"C:\\Users\\Familia\\anaconda3\\envs\\entornoGPU\\lib\\site-packages\\IPython\\core\\ultratb.py\", line 1101, in get_records\n",
      "    return _fixed_getinnerframes(etb, number_of_lines_of_context, tb_offset)\n",
      "  File \"C:\\Users\\Familia\\anaconda3\\envs\\entornoGPU\\lib\\site-packages\\IPython\\core\\ultratb.py\", line 248, in wrapped\n",
      "    return f(*args, **kwargs)\n",
      "  File \"C:\\Users\\Familia\\anaconda3\\envs\\entornoGPU\\lib\\site-packages\\IPython\\core\\ultratb.py\", line 281, in _fixed_getinnerframes\n",
      "    records = fix_frame_records_filenames(inspect.getinnerframes(etb, context))\n",
      "  File \"C:\\Users\\Familia\\anaconda3\\envs\\entornoGPU\\lib\\inspect.py\", line 1502, in getinnerframes\n",
      "    frameinfo = (tb.tb_frame,) + getframeinfo(tb, context)\n",
      "  File \"C:\\Users\\Familia\\anaconda3\\envs\\entornoGPU\\lib\\inspect.py\", line 1460, in getframeinfo\n",
      "    filename = getsourcefile(frame) or getfile(frame)\n",
      "  File \"C:\\Users\\Familia\\anaconda3\\envs\\entornoGPU\\lib\\inspect.py\", line 696, in getsourcefile\n",
      "    if getattr(getmodule(object, filename), '__loader__', None) is not None:\n",
      "  File \"C:\\Users\\Familia\\anaconda3\\envs\\entornoGPU\\lib\\inspect.py\", line 733, in getmodule\n",
      "    if ismodule(module) and hasattr(module, '__file__'):\n",
      "  File \"C:\\Users\\Familia\\anaconda3\\envs\\entornoGPU\\lib\\site-packages\\tensorflow\\__init__.py\", line 50, in __getattr__\n",
      "    module = self._load()\n",
      "  File \"C:\\Users\\Familia\\anaconda3\\envs\\entornoGPU\\lib\\site-packages\\tensorflow\\__init__.py\", line 44, in _load\n",
      "    module = _importlib.import_module(self.__name__)\n",
      "  File \"C:\\Users\\Familia\\anaconda3\\envs\\entornoGPU\\lib\\importlib\\__init__.py\", line 127, in import_module\n",
      "    return _bootstrap._gcd_import(name[level:], package, level)\n",
      "  File \"<frozen importlib._bootstrap>\", line 1006, in _gcd_import\n",
      "  File \"<frozen importlib._bootstrap>\", line 983, in _find_and_load\n",
      "  File \"<frozen importlib._bootstrap>\", line 965, in _find_and_load_unlocked\n",
      "ModuleNotFoundError: No module named 'tensorflow_core.estimator'\n",
      "Traceback (most recent call last):\n",
      "  File \"C:\\Users\\Familia\\anaconda3\\envs\\entornoGPU\\lib\\site-packages\\IPython\\core\\interactiveshell.py\", line 3457, in run_code\n",
      "    exec(code_obj, self.user_global_ns, self.user_ns)\n",
      "  File \"C:\\Users\\Familia\\AppData\\Local\\Temp\\ipykernel_12756\\3649414629.py\", line 60, in <module>\n",
      "    validation_steps=len(validation_generator))\n",
      "  File \"C:\\Users\\Familia\\anaconda3\\envs\\entornoGPU\\lib\\site-packages\\tensorflow_core\\python\\keras\\engine\\training.py\", line 819, in fit\n",
      "    use_multiprocessing=use_multiprocessing)\n",
      "  File \"C:\\Users\\Familia\\anaconda3\\envs\\entornoGPU\\lib\\site-packages\\tensorflow_core\\python\\keras\\engine\\training_v2.py\", line 342, in fit\n",
      "    total_epochs=epochs)\n",
      "  File \"C:\\Users\\Familia\\anaconda3\\envs\\entornoGPU\\lib\\site-packages\\tensorflow_core\\python\\keras\\engine\\training_v2.py\", line 128, in run_one_epoch\n",
      "    batch_outs = execution_function(iterator)\n",
      "  File \"C:\\Users\\Familia\\anaconda3\\envs\\entornoGPU\\lib\\site-packages\\tensorflow_core\\python\\keras\\engine\\training_v2_utils.py\", line 98, in execution_function\n",
      "    distributed_function(input_fn))\n",
      "  File \"C:\\Users\\Familia\\anaconda3\\envs\\entornoGPU\\lib\\site-packages\\tensorflow_core\\python\\eager\\def_function.py\", line 568, in __call__\n",
      "    result = self._call(*args, **kwds)\n",
      "  File \"C:\\Users\\Familia\\anaconda3\\envs\\entornoGPU\\lib\\site-packages\\tensorflow_core\\python\\eager\\def_function.py\", line 599, in _call\n",
      "    return self._stateless_fn(*args, **kwds)  # pylint: disable=not-callable\n",
      "  File \"C:\\Users\\Familia\\anaconda3\\envs\\entornoGPU\\lib\\site-packages\\tensorflow_core\\python\\eager\\function.py\", line 2363, in __call__\n",
      "    return graph_function._filtered_call(args, kwargs)  # pylint: disable=protected-access\n",
      "  File \"C:\\Users\\Familia\\anaconda3\\envs\\entornoGPU\\lib\\site-packages\\tensorflow_core\\python\\eager\\function.py\", line 1611, in _filtered_call\n",
      "    self.captured_inputs)\n",
      "  File \"C:\\Users\\Familia\\anaconda3\\envs\\entornoGPU\\lib\\site-packages\\tensorflow_core\\python\\eager\\function.py\", line 1692, in _call_flat\n",
      "    ctx, args, cancellation_manager=cancellation_manager))\n",
      "  File \"C:\\Users\\Familia\\anaconda3\\envs\\entornoGPU\\lib\\site-packages\\tensorflow_core\\python\\eager\\function.py\", line 545, in call\n",
      "    ctx=ctx)\n",
      "  File \"C:\\Users\\Familia\\anaconda3\\envs\\entornoGPU\\lib\\site-packages\\tensorflow_core\\python\\eager\\execute.py\", line 61, in quick_execute\n",
      "    num_outputs)\n",
      "KeyboardInterrupt\n",
      "\n",
      "During handling of the above exception, another exception occurred:\n",
      "\n",
      "Traceback (most recent call last):\n",
      "  File \"C:\\Users\\Familia\\anaconda3\\envs\\entornoGPU\\lib\\site-packages\\IPython\\core\\interactiveshell.py\", line 2077, in showtraceback\n",
      "    stb = value._render_traceback_()\n",
      "AttributeError: 'KeyboardInterrupt' object has no attribute '_render_traceback_'\n",
      "\n",
      "During handling of the above exception, another exception occurred:\n",
      "\n",
      "Traceback (most recent call last):\n",
      "  File \"C:\\Users\\Familia\\anaconda3\\envs\\entornoGPU\\lib\\site-packages\\IPython\\core\\interactiveshell.py\", line 3377, in run_ast_nodes\n",
      "    if (await self.run_code(code, result,  async_=asy)):\n",
      "  File \"C:\\Users\\Familia\\anaconda3\\envs\\entornoGPU\\lib\\site-packages\\IPython\\core\\interactiveshell.py\", line 3474, in run_code\n",
      "    self.showtraceback(running_compiled_code=True)\n",
      "  File \"C:\\Users\\Familia\\anaconda3\\envs\\entornoGPU\\lib\\site-packages\\IPython\\core\\interactiveshell.py\", line 2080, in showtraceback\n",
      "    value, tb, tb_offset=tb_offset)\n",
      "  File \"C:\\Users\\Familia\\anaconda3\\envs\\entornoGPU\\lib\\site-packages\\IPython\\core\\ultratb.py\", line 1368, in structured_traceback\n",
      "    self, etype, value, tb, tb_offset, number_of_lines_of_context)\n",
      "  File \"C:\\Users\\Familia\\anaconda3\\envs\\entornoGPU\\lib\\site-packages\\IPython\\core\\ultratb.py\", line 1268, in structured_traceback\n",
      "    self, etype, value, tb, tb_offset, number_of_lines_of_context\n",
      "  File \"C:\\Users\\Familia\\anaconda3\\envs\\entornoGPU\\lib\\site-packages\\IPython\\core\\ultratb.py\", line 1125, in structured_traceback\n",
      "    tb_offset)\n",
      "  File \"C:\\Users\\Familia\\anaconda3\\envs\\entornoGPU\\lib\\site-packages\\IPython\\core\\ultratb.py\", line 1082, in format_exception_as_a_whole\n",
      "    last_unique, recursion_repeat = find_recursion(orig_etype, evalue, records)\n",
      "  File \"C:\\Users\\Familia\\anaconda3\\envs\\entornoGPU\\lib\\site-packages\\IPython\\core\\ultratb.py\", line 382, in find_recursion\n",
      "    return len(records), 0\n",
      "TypeError: object of type 'NoneType' has no len()\n",
      "\n",
      "During handling of the above exception, another exception occurred:\n",
      "\n",
      "Traceback (most recent call last):\n",
      "  File \"C:\\Users\\Familia\\anaconda3\\envs\\entornoGPU\\lib\\site-packages\\IPython\\core\\interactiveshell.py\", line 2077, in showtraceback\n",
      "    stb = value._render_traceback_()\n",
      "AttributeError: 'TypeError' object has no attribute '_render_traceback_'\n",
      "\n",
      "During handling of the above exception, another exception occurred:\n",
      "\n",
      "Traceback (most recent call last):\n",
      "  File \"C:\\Users\\Familia\\anaconda3\\envs\\entornoGPU\\lib\\site-packages\\IPython\\core\\interactiveshell.py\", line 2960, in _run_cell\n",
      "    return runner(coro)\n",
      "  File \"C:\\Users\\Familia\\anaconda3\\envs\\entornoGPU\\lib\\site-packages\\IPython\\core\\async_helpers.py\", line 78, in _pseudo_sync_runner\n",
      "    coro.send(None)\n",
      "  File \"C:\\Users\\Familia\\anaconda3\\envs\\entornoGPU\\lib\\site-packages\\IPython\\core\\interactiveshell.py\", line 3186, in run_cell_async\n",
      "    interactivity=interactivity, compiler=compiler, result=result)\n",
      "  File \"C:\\Users\\Familia\\anaconda3\\envs\\entornoGPU\\lib\\site-packages\\IPython\\core\\interactiveshell.py\", line 3396, in run_ast_nodes\n",
      "    self.showtraceback()\n",
      "  File \"C:\\Users\\Familia\\anaconda3\\envs\\entornoGPU\\lib\\site-packages\\IPython\\core\\interactiveshell.py\", line 2080, in showtraceback\n",
      "    value, tb, tb_offset=tb_offset)\n",
      "  File \"C:\\Users\\Familia\\anaconda3\\envs\\entornoGPU\\lib\\site-packages\\IPython\\core\\ultratb.py\", line 1368, in structured_traceback\n",
      "    self, etype, value, tb, tb_offset, number_of_lines_of_context)\n",
      "  File \"C:\\Users\\Familia\\anaconda3\\envs\\entornoGPU\\lib\\site-packages\\IPython\\core\\ultratb.py\", line 1268, in structured_traceback\n",
      "    self, etype, value, tb, tb_offset, number_of_lines_of_context\n",
      "  File \"C:\\Users\\Familia\\anaconda3\\envs\\entornoGPU\\lib\\site-packages\\IPython\\core\\ultratb.py\", line 1143, in structured_traceback\n",
      "    chained_exceptions_tb_offset)\n",
      "  File \"C:\\Users\\Familia\\anaconda3\\envs\\entornoGPU\\lib\\site-packages\\IPython\\core\\ultratb.py\", line 1082, in format_exception_as_a_whole\n",
      "    last_unique, recursion_repeat = find_recursion(orig_etype, evalue, records)\n",
      "  File \"C:\\Users\\Familia\\anaconda3\\envs\\entornoGPU\\lib\\site-packages\\IPython\\core\\ultratb.py\", line 382, in find_recursion\n",
      "    return len(records), 0\n",
      "TypeError: object of type 'NoneType' has no len()\n",
      "\n",
      "During handling of the above exception, another exception occurred:\n",
      "\n",
      "Traceback (most recent call last):\n",
      "  File \"C:\\Users\\Familia\\anaconda3\\envs\\entornoGPU\\lib\\site-packages\\IPython\\core\\interactiveshell.py\", line 2077, in showtraceback\n",
      "    stb = value._render_traceback_()\n",
      "AttributeError: 'TypeError' object has no attribute '_render_traceback_'\n",
      "\n",
      "During handling of the above exception, another exception occurred:\n",
      "\n",
      "Traceback (most recent call last):\n",
      "  File \"C:\\Users\\Familia\\anaconda3\\envs\\entornoGPU\\lib\\site-packages\\IPython\\core\\ultratb.py\", line 1101, in get_records\n",
      "    return _fixed_getinnerframes(etb, number_of_lines_of_context, tb_offset)\n",
      "  File \"C:\\Users\\Familia\\anaconda3\\envs\\entornoGPU\\lib\\site-packages\\IPython\\core\\ultratb.py\", line 248, in wrapped\n",
      "    return f(*args, **kwargs)\n",
      "  File \"C:\\Users\\Familia\\anaconda3\\envs\\entornoGPU\\lib\\site-packages\\IPython\\core\\ultratb.py\", line 281, in _fixed_getinnerframes\n",
      "    records = fix_frame_records_filenames(inspect.getinnerframes(etb, context))\n",
      "  File \"C:\\Users\\Familia\\anaconda3\\envs\\entornoGPU\\lib\\inspect.py\", line 1502, in getinnerframes\n",
      "    frameinfo = (tb.tb_frame,) + getframeinfo(tb, context)\n",
      "  File \"C:\\Users\\Familia\\anaconda3\\envs\\entornoGPU\\lib\\inspect.py\", line 1460, in getframeinfo\n",
      "    filename = getsourcefile(frame) or getfile(frame)\n",
      "  File \"C:\\Users\\Familia\\anaconda3\\envs\\entornoGPU\\lib\\inspect.py\", line 696, in getsourcefile\n",
      "    if getattr(getmodule(object, filename), '__loader__', None) is not None:\n",
      "  File \"C:\\Users\\Familia\\anaconda3\\envs\\entornoGPU\\lib\\inspect.py\", line 733, in getmodule\n",
      "    if ismodule(module) and hasattr(module, '__file__'):\n",
      "  File \"C:\\Users\\Familia\\anaconda3\\envs\\entornoGPU\\lib\\site-packages\\tensorflow\\__init__.py\", line 50, in __getattr__\n",
      "    module = self._load()\n",
      "  File \"C:\\Users\\Familia\\anaconda3\\envs\\entornoGPU\\lib\\site-packages\\tensorflow\\__init__.py\", line 44, in _load\n",
      "    module = _importlib.import_module(self.__name__)\n",
      "  File \"C:\\Users\\Familia\\anaconda3\\envs\\entornoGPU\\lib\\importlib\\__init__.py\", line 127, in import_module\n",
      "    return _bootstrap._gcd_import(name[level:], package, level)\n",
      "  File \"<frozen importlib._bootstrap>\", line 1006, in _gcd_import\n",
      "  File \"<frozen importlib._bootstrap>\", line 983, in _find_and_load\n",
      "  File \"<frozen importlib._bootstrap>\", line 965, in _find_and_load_unlocked\n",
      "ModuleNotFoundError: No module named 'tensorflow_core.estimator'\n"
     ]
    }
   ],
   "source": [
    "from tensorflow.keras.preprocessing.image import ImageDataGenerator\n",
    "from tensorflow.keras.models import Sequential\n",
    "from tensorflow.keras.layers import Conv2D, MaxPooling2D, Flatten, Dense, Dropout\n",
    "from tensorflow.keras.optimizers import Adam\n",
    "\n",
    "# Definir la ruta de la base de datos\n",
    "database_path = '../../database/105_classes_pins_dataset/'\n",
    "# Preprocesamiento de datos con ImageDataGenerator\n",
    "train_datagen = ImageDataGenerator(rescale=1./255,\n",
    "                                   shear_range=0.2,\n",
    "                                   zoom_range=0.2,\n",
    "                                   horizontal_flip=True,\n",
    "                                   validation_split=0.2)\n",
    "# Generadores de datos para entrenamiento y validación\n",
    "train_generator = train_datagen.flow_from_directory(\n",
    "    database_path,\n",
    "    target_size=(200, 200),  # Cambio al tamaño 50x50\n",
    "    batch_size=32,\n",
    "    class_mode='categorical',\n",
    "    subset='training')\n",
    "validation_generator = train_datagen.flow_from_directory(\n",
    "    database_path,\n",
    "    target_size=(200, 200),  # Cambio al tamaño 50x50\n",
    "    batch_size=32,\n",
    "    class_mode='categorical',\n",
    "    subset='validation')\n",
    "\n",
    "# Inicializar el modelo\n",
    "model = Sequential()\n",
    "# Agregar capas convolucionales y de pooling\n",
    "model.add(Conv2D(32, (3, 3), activation='relu', input_shape=(200, 200, 3)))  # Cambio a 50x50\n",
    "model.add(MaxPooling2D((2, 2)))\n",
    "\n",
    "# Agregar dos capas convolucionales adicionales\n",
    "model.add(Conv2D(128, (3, 3), activation='relu'))\n",
    "model.add(MaxPooling2D((2, 2)))\n",
    "model.add(Conv2D(128, (3, 3), activation='relu'))\n",
    "model.add(MaxPooling2D((2, 2)))\n",
    "\n",
    "# Modificar el tamaño de las capas densas (totalmente conectadas)\n",
    "model.add(Flatten())\n",
    "model.add(Dense(128, activation='relu'))\n",
    "model.add(Dropout(0.5))\n",
    "\n",
    "# Cambiar el número de clases si es necesario\n",
    "model.add(Dense(len(train_generator.class_indices), activation='softmax'))\n",
    "\n",
    "# Entrenamiento para 50 épocas y guardar los resultados\n",
    "for epoch in range(1, 51):\n",
    "    # Compilar el modelo\n",
    "    model.compile(optimizer=Adam(learning_rate=0.001),\n",
    "                  loss='categorical_crossentropy',\n",
    "                  metrics=['accuracy'])\n",
    "\n",
    "    # Entrenar el modelo con una sola época\n",
    "    history = model.fit(train_generator,\n",
    "                        steps_per_epoch=len(train_generator),\n",
    "                        epochs=1,\n",
    "                        validation_data=validation_generator,\n",
    "                        validation_steps=len(validation_generator))\n",
    "\n",
    "    # Guardar los resultados en un archivo de texto\n",
    "    with open(f'epoch_{epoch}_results.txt', 'w') as file:\n",
    "        file.write(f'Epoch {epoch}:\\n')\n",
    "        file.write(f'Training Accuracy: {history.history[\"accuracy\"]}\\n')\n",
    "        file.write(f'Validation Accuracy: {history.history[\"val_accuracy\"]}\\n')\n"
   ]
  },
  {
   "cell_type": "code",
   "execution_count": null,
   "id": "290c2d5b",
   "metadata": {},
   "outputs": [],
   "source": []
  },
  {
   "cell_type": "code",
   "execution_count": null,
   "id": "4565774f",
   "metadata": {},
   "outputs": [],
   "source": []
  },
  {
   "cell_type": "code",
   "execution_count": null,
   "id": "cb6ca71a",
   "metadata": {},
   "outputs": [],
   "source": []
  },
  {
   "cell_type": "code",
   "execution_count": null,
   "id": "661620d5",
   "metadata": {},
   "outputs": [],
   "source": []
  },
  {
   "cell_type": "code",
   "execution_count": null,
   "id": "38cfe436",
   "metadata": {},
   "outputs": [],
   "source": []
  },
  {
   "cell_type": "code",
   "execution_count": null,
   "id": "df1570d0",
   "metadata": {},
   "outputs": [],
   "source": []
  },
  {
   "cell_type": "code",
   "execution_count": null,
   "id": "2cfce3ae",
   "metadata": {},
   "outputs": [],
   "source": []
  },
  {
   "cell_type": "code",
   "execution_count": null,
   "id": "d28eb194",
   "metadata": {},
   "outputs": [],
   "source": []
  },
  {
   "cell_type": "code",
   "execution_count": null,
   "id": "0c66c0c2",
   "metadata": {},
   "outputs": [],
   "source": []
  },
  {
   "cell_type": "code",
   "execution_count": 4,
   "id": "f0dbae23",
   "metadata": {},
   "outputs": [
    {
     "name": "stdout",
     "output_type": "stream",
     "text": [
      "ERROR! Session/line number was not unique in database. History logging moved to new session 220\n",
      "Found 14071 images belonging to 105 classes.\n",
      "Found 3463 images belonging to 105 classes.\n",
      "WARNING:tensorflow:sample_weight modes were coerced from\n",
      "  ...\n",
      "    to  \n",
      "  ['...']\n"
     ]
    },
    {
     "name": "stderr",
     "output_type": "stream",
     "text": [
      "WARNING:tensorflow:sample_weight modes were coerced from\n",
      "  ...\n",
      "    to  \n",
      "  ['...']\n"
     ]
    },
    {
     "name": "stdout",
     "output_type": "stream",
     "text": [
      "WARNING:tensorflow:sample_weight modes were coerced from\n",
      "  ...\n",
      "    to  \n",
      "  ['...']\n"
     ]
    },
    {
     "name": "stderr",
     "output_type": "stream",
     "text": [
      "WARNING:tensorflow:sample_weight modes were coerced from\n",
      "  ...\n",
      "    to  \n",
      "  ['...']\n"
     ]
    },
    {
     "name": "stdout",
     "output_type": "stream",
     "text": [
      "Train for 440 steps, validate for 109 steps\n",
      "440/440 [==============================] - 128s 292ms/step - loss: 4.6528 - accuracy: 0.0117 - val_loss: 4.6427 - val_accuracy: 0.0136\n",
      "WARNING:tensorflow:sample_weight modes were coerced from\n",
      "  ...\n",
      "    to  \n",
      "  ['...']\n"
     ]
    },
    {
     "name": "stderr",
     "output_type": "stream",
     "text": [
      "WARNING:tensorflow:sample_weight modes were coerced from\n",
      "  ...\n",
      "    to  \n",
      "  ['...']\n"
     ]
    },
    {
     "name": "stdout",
     "output_type": "stream",
     "text": [
      "WARNING:tensorflow:sample_weight modes were coerced from\n",
      "  ...\n",
      "    to  \n",
      "  ['...']\n"
     ]
    },
    {
     "name": "stderr",
     "output_type": "stream",
     "text": [
      "WARNING:tensorflow:sample_weight modes were coerced from\n",
      "  ...\n",
      "    to  \n",
      "  ['...']\n"
     ]
    },
    {
     "name": "stdout",
     "output_type": "stream",
     "text": [
      "Train for 440 steps, validate for 109 steps\n",
      "440/440 [==============================] - 125s 283ms/step - loss: 4.6408 - accuracy: 0.0134 - val_loss: 4.6348 - val_accuracy: 0.0136\n",
      "Mejor precisión de validación: 0.013572047464549541 en la época 1\n"
     ]
    }
   ],
   "source": [
    "from tensorflow.keras.preprocessing.image import ImageDataGenerator\n",
    "from tensorflow.keras.models import Sequential\n",
    "from tensorflow.keras.layers import Conv2D, MaxPooling2D, Flatten, Dense, Dropout\n",
    "from tensorflow.keras.optimizers import Adam\n",
    "\n",
    "# Definir la ruta de la base de datos\n",
    "database_path = '../../database/105_classes_pins_dataset/'\n",
    "# Preprocesamiento de datos con ImageDataGenerator\n",
    "train_datagen = ImageDataGenerator(rescale=1./255,\n",
    "                                   shear_range=0.2,\n",
    "                                   zoom_range=0.2,\n",
    "                                   horizontal_flip=True,\n",
    "                                   validation_split=0.2)\n",
    "# Generadores de datos para entrenamiento y validación\n",
    "train_generator = train_datagen.flow_from_directory(\n",
    "    database_path,\n",
    "    target_size=(200, 200),  # Cambio al tamaño 50x50\n",
    "    batch_size=32,\n",
    "    class_mode='categorical',\n",
    "    subset='training')\n",
    "validation_generator = train_datagen.flow_from_directory(\n",
    "    database_path,\n",
    "    target_size=(200, 200),  # Cambio al tamaño 50x50\n",
    "    batch_size=32,\n",
    "    class_mode='categorical',\n",
    "    subset='validation')\n",
    "\n",
    "# Inicializar el modelo\n",
    "model = Sequential()\n",
    "# Agregar capas convolucionales y de pooling\n",
    "model.add(Conv2D(32, (3, 3), activation='relu', input_shape=(200, 200, 3)))  # Cambio a 50x50\n",
    "model.add(MaxPooling2D((2, 2)))\n",
    "\n",
    "# Agregar dos capas convolucionales adicionales\n",
    "model.add(Conv2D(128, (3, 3), activation='relu'))\n",
    "model.add(MaxPooling2D((2, 2)))\n",
    "model.add(Conv2D(128, (3, 3), activation='relu'))\n",
    "model.add(MaxPooling2D((2, 2)))\n",
    "\n",
    "# Modificar el tamaño de las capas densas (totalmente conectadas)\n",
    "model.add(Flatten())\n",
    "model.add(Dense(128, activation='relu'))\n",
    "model.add(Dropout(0.5))\n",
    "\n",
    "# Cambiar el número de clases si es necesario\n",
    "model.add(Dense(len(train_generator.class_indices), activation='softmax'))\n",
    "\n",
    "best_validation_acc = 0.0\n",
    "best_epoch = 0\n",
    "\n",
    "# Guardar los resultados en un archivo de texto\n",
    "with open('training_results.txt', 'w') as file:\n",
    "    for epoch in range(1, 3):\n",
    "        # Compilar el modelo\n",
    "        model.compile(optimizer=Adam(learning_rate=0.001),\n",
    "                      loss='categorical_crossentropy',\n",
    "                      metrics=['accuracy'])\n",
    "\n",
    "        # Entrenar el modelo con una sola época\n",
    "        history = model.fit(train_generator,\n",
    "                            steps_per_epoch=len(train_generator),\n",
    "                            epochs=1,\n",
    "                            validation_data=validation_generator,\n",
    "                            validation_steps=len(validation_generator))\n",
    "\n",
    "        # Escribir los resultados en el archivo de texto\n",
    "        file.write(f'Epoch {epoch}:\\n')\n",
    "        file.write(f'Training Accuracy: {history.history[\"accuracy\"]}\\n')\n",
    "        file.write(f'Validation Accuracy: {history.history[\"val_accuracy\"]}\\n')\n",
    "\n",
    "        # Seguimiento del mejor resultado de precisión de validación\n",
    "        if history.history['val_accuracy'][0] > best_validation_acc:\n",
    "            best_validation_acc = history.history['val_accuracy'][0]\n",
    "            best_epoch = epoch\n",
    "\n",
    "# Imprimir el mejor resultado de precisión de validación y en qué época ocurrió\n",
    "print(f'Mejor precisión de validación: {best_validation_acc} en la época {best_epoch}')\n"
   ]
  },
  {
   "cell_type": "code",
   "execution_count": null,
   "id": "5bae2983",
   "metadata": {},
   "outputs": [],
   "source": []
  },
  {
   "cell_type": "code",
   "execution_count": null,
   "id": "8a995a1b",
   "metadata": {},
   "outputs": [],
   "source": []
  },
  {
   "cell_type": "code",
   "execution_count": null,
   "id": "4f31ed71",
   "metadata": {},
   "outputs": [],
   "source": [
    "from keras.wrappers.scikit_learn import KerasClassifier\n",
    "from sklearn.model_selection import GridSearchCV\n",
    "from keras.models import Sequential\n",
    "from keras.layers import Conv2D, MaxPooling2D, Flatten, Dense, Dropout\n",
    "from keras.optimizers import Adam\n",
    "from keras.preprocessing.image import ImageDataGenerator"
   ]
  },
  {
   "cell_type": "code",
   "execution_count": null,
   "id": "d136d896",
   "metadata": {},
   "outputs": [],
   "source": [
    "# Función para crear el modelo\n",
    "def create_model(learning_rate=0.001, filters=32):\n",
    "    model = Sequential()\n",
    "    model.add(Conv2D(filters, (3, 3), activation='relu', input_shape=(224, 224, 3)))\n",
    "    model.add(MaxPooling2D((2, 2)))\n",
    "    model.add(Flatten())\n",
    "    model.add(Dense(128, activation='relu'))\n",
    "    model.add(Dropout(0.5))\n",
    "    model.add(Dense(len(train_generator.class_indices), activation='softmax'))\n",
    "\n",
    "    model.compile(optimizer=Adam(learning_rate=learning_rate),\n",
    "                  loss='categorical_crossentropy',\n",
    "                  metrics=['accuracy'])\n",
    "    \n",
    "    return model\n"
   ]
  },
  {
   "cell_type": "code",
   "execution_count": null,
   "id": "48a05bb2",
   "metadata": {},
   "outputs": [],
   "source": [
    "# Definir la ruta de la base de datos y el generador de datos\n",
    "database_path = '../../database/105_classes_pins_dataset/'\n",
    "train_datagen = ImageDataGenerator(rescale=1./255,\n",
    "                                   shear_range=0.2,\n",
    "                                   zoom_range=0.2,\n",
    "                                   horizontal_flip=True,\n",
    "                                   validation_split=0.2)\n",
    "train_generator = train_datagen.flow_from_directory(\n",
    "    database_path,\n",
    "    target_size=(224, 224),\n",
    "    batch_size=1,\n",
    "    class_mode='categorical',\n",
    "    subset='training')"
   ]
  },
  {
   "cell_type": "code",
   "execution_count": null,
   "id": "3d0511aa",
   "metadata": {},
   "outputs": [],
   "source": [
    "# Crear el modelo\n",
    "model = KerasClassifier(build_fn=create_model, epochs=10, verbose=0)"
   ]
  },
  {
   "cell_type": "code",
   "execution_count": null,
   "id": "93c4531e",
   "metadata": {},
   "outputs": [],
   "source": [
    "# Definir los hiperparámetros a buscar\n",
    "param_grid = {\n",
    "    'learning_rate': [0.001, 0.01, 0.1],\n",
    "    'batch_size': [16, 32, 64],\n",
    "    'filters': [16, 32, 64]\n",
    "}"
   ]
  },
  {
   "cell_type": "code",
   "execution_count": null,
   "id": "a10fd2ab",
   "metadata": {},
   "outputs": [],
   "source": [
    "# Realizar la búsqueda en cuadrícula\n",
    "grid = GridSearchCV(estimator=model, param_grid=param_grid, cv=3)\n",
    "grid_result = grid.fit(train_generator)"
   ]
  },
  {
   "cell_type": "code",
   "execution_count": null,
   "id": "ac17be0e",
   "metadata": {},
   "outputs": [],
   "source": [
    "# Mostrar los resultados\n",
    "print(\"Mejor precisión obtenida:\", grid_result.best_score_)\n",
    "print(\"Con hiperparámetros:\", grid_result.best_params_)"
   ]
  },
  {
   "cell_type": "code",
   "execution_count": null,
   "id": "efc4a36d",
   "metadata": {},
   "outputs": [],
   "source": []
  }
 ],
 "metadata": {
  "kernelspec": {
   "display_name": "entornoGPU",
   "language": "python",
   "name": "entornogpu"
  },
  "language_info": {
   "codemirror_mode": {
    "name": "ipython",
    "version": 3
   },
   "file_extension": ".py",
   "mimetype": "text/x-python",
   "name": "python",
   "nbconvert_exporter": "python",
   "pygments_lexer": "ipython3",
   "version": "3.7.13"
  }
 },
 "nbformat": 4,
 "nbformat_minor": 5
}
